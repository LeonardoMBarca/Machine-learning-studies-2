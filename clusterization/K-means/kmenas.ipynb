{
 "cells": [
  {
   "cell_type": "code",
   "execution_count": 71,
   "metadata": {},
   "outputs": [],
   "source": [
    "import pandas as pd\n",
    "from sklearn.datasets import load_breast_cancer\n",
    "from sklearn.metrics import accuracy_score, confusion_matrix"
   ]
  },
  {
   "cell_type": "code",
   "execution_count": 72,
   "metadata": {},
   "outputs": [],
   "source": [
    "data = load_breast_cancer()\n",
    "\n",
    "x = pd.DataFrame(data.data, columns=[data.feature_names])\n",
    "y = pd.Series(data.target)"
   ]
  },
  {
   "cell_type": "code",
   "execution_count": 73,
   "metadata": {},
   "outputs": [],
   "source": [
    "from sklearn.preprocessing import MinMaxScaler"
   ]
  },
  {
   "cell_type": "code",
   "execution_count": 74,
   "metadata": {},
   "outputs": [],
   "source": [
    "norm = MinMaxScaler(feature_range=(0, 1))\n",
    "x_norm = norm.fit_transform(x)"
   ]
  },
  {
   "cell_type": "code",
   "execution_count": 75,
   "metadata": {},
   "outputs": [],
   "source": [
    "from sklearn.cluster import KMeans"
   ]
  },
  {
   "cell_type": "code",
   "execution_count": 76,
   "metadata": {},
   "outputs": [
    {
     "name": "stdout",
     "output_type": "stream",
     "text": [
      "[[0.50483563 0.39560329 0.50578661 0.36376576 0.46988732 0.42226302\n",
      "  0.41838662 0.46928035 0.45899738 0.29945886 0.19093085 0.19112073\n",
      "  0.17903433 0.13086432 0.18017962 0.25890126 0.12542475 0.30942779\n",
      "  0.190072   0.13266975 0.48047448 0.45107371 0.4655302  0.31460597\n",
      "  0.49868817 0.36391461 0.39027292 0.65827197 0.33752296 0.26041387]\n",
      " [0.25535358 0.28833455 0.24696416 0.14388369 0.35743076 0.18019471\n",
      "  0.10344776 0.1306603  0.34011829 0.25591606 0.06427485 0.18843043\n",
      "  0.05975663 0.02870108 0.18158628 0.13242941 0.05821528 0.18069336\n",
      "  0.17221057 0.08403996 0.2052406  0.32069002 0.19242138 0.09943446\n",
      "  0.3571115  0.14873935 0.13142287 0.26231363 0.22639412 0.15437354]]\n"
     ]
    }
   ],
   "source": [
    "model = KMeans(n_clusters=2, random_state=16)\n",
    "# n_clusters = 2 -> the target is 0 or 1\n",
    "model.fit(x_norm)\n",
    "\n",
    "print(model.cluster_centers_)"
   ]
  },
  {
   "cell_type": "code",
   "execution_count": 77,
   "metadata": {},
   "outputs": [
    {
     "name": "stdout",
     "output_type": "stream",
     "text": [
      "0.9279437609841827\n",
      "[[180  32]\n",
      " [  9 348]]\n",
      "0.07205623901581722\n",
      "[[ 32 180]\n",
      " [348   9]]\n"
     ]
    }
   ],
   "source": [
    "result = model.predict(x_norm)\n",
    "result_inverted = 1 - result\n",
    "\n",
    "accuracy = accuracy_score(y, result)\n",
    "matrix = confusion_matrix(y, result)\n",
    "\n",
    "accuracy_inverted = accuracy_score(y, result_inverted)\n",
    "matrix_inverted = confusion_matrix(y, result_inverted)\n",
    "\n",
    "print(accuracy)\n",
    "print(matrix)\n",
    "print(accuracy_inverted)\n",
    "print(matrix_inverted)"
   ]
  },
  {
   "cell_type": "code",
   "execution_count": 78,
   "metadata": {},
   "outputs": [],
   "source": [
    "def accuracy(a, b):\n",
    "    acertos = 0\n",
    "    for i in range(len(a)):\n",
    "        if a[i] == b[i]:\n",
    "            acertos += 1\n",
    "    print(acertos/len(a))\n",
    "def accuracy_inverted(a, b):\n",
    "    acertos = 0\n",
    "    for i in range(len(a)):\n",
    "        if a[i] == b[i]:\n",
    "            acertos += 1\n",
    "    print(acertos/len(a))"
   ]
  },
  {
   "cell_type": "code",
   "execution_count": 79,
   "metadata": {},
   "outputs": [
    {
     "name": "stdout",
     "output_type": "stream",
     "text": [
      "0.9279437609841827\n",
      "0.07205623901581722\n"
     ]
    }
   ],
   "source": [
    "accuracy(y, result)\n",
    "accuracy_inverted(y, result_inverted)"
   ]
  }
 ],
 "metadata": {
  "kernelspec": {
   "display_name": "Python 3",
   "language": "python",
   "name": "python3"
  },
  "language_info": {
   "codemirror_mode": {
    "name": "ipython",
    "version": 3
   },
   "file_extension": ".py",
   "mimetype": "text/x-python",
   "name": "python",
   "nbconvert_exporter": "python",
   "pygments_lexer": "ipython3",
   "version": "3.12.2"
  }
 },
 "nbformat": 4,
 "nbformat_minor": 2
}
